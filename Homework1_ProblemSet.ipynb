{
 "cells": [
  {
   "cell_type": "markdown",
   "id": "bbe3f931-7cb6-4d10-9e0b-0228c145a880",
   "metadata": {},
   "source": [
    "# Notebook for Homework 1 "
   ]
  },
  {
   "cell_type": "code",
   "execution_count": 2,
   "id": "68311919-5c07-4475-a3d3-ba70c850e06e",
   "metadata": {
    "tags": []
   },
   "outputs": [],
   "source": [
    "# Preliminary Codes -- DO NOT CHANGE ANYTHING IN THIS SECTION\n",
    "import random, pickle\n",
    "import numpy as np\n",
    "xData = [100*random.random() for i in range(20)]\n",
    "number = 5+random.randint(8,20)\n",
    "fruit = 'apples'\n",
    "day = 'Saturday'\n",
    "string_4 = 'An alacritous abalone accelerates along an alarming aquatic ascent.'\n",
    "string_5 = 'A                       large space was here.'\n",
    "string_6 = 'ATCGTGCATGCTGAGTGGCGAGCGGCGGCCGTACGCTGTTACTTAAAACGTAGCTGTAAAAAAC\\\n",
    "            GCTGCTGATGCTGTGCATGTGACTAGCTGCATGTGTGACTGACTGCTGACGTACTGTACGTACG\\\n",
    "            ATGGTTCGTGCGATGCGCTTGACGTGTCGTAGTGCATGCTGCTAGCTGATCGATGTGTCGAGTC'\n",
    "nDigits = 6\n",
    "nPower = 3\n",
    "List10 = ['apples','bananas','pears','pears','blueberries','apples','strawberries']\n",
    "Student_IDs = [1,2,3,4,5]\n",
    "Student_names = ['Jim','John','Jenna','Jamal','Jaden']\n",
    "List12 = [1,2,3,4,5,6,7,8]\n",
    "\n",
    "q1 = 'xxx'\n",
    "q2 = 'XXX'\n",
    "q3 = 'XXX'\n",
    "q4 = 123\n",
    "q5 = 'XXX'\n",
    "q6 = 123\n",
    "q7 = 'XXX'\n",
    "q8 = 1.23\n",
    "q8 = 'xxx'\n",
    "q9 = 'xxx'\n",
    "q10 = List10\n",
    "q11 = 'xxx'\n",
    "q12 = [1,2,3,4,5,6,7,8]\n",
    "\n",
    "fnDat = 'Hwk1Data.pkl'\n",
    "dataDict = {'xData':xData,'number':number,'fruit':fruit,'day':day,'string_4':string_4,\n",
    "    'string_5':string_5,'string_6':string_6,'nDigits':nDigits,'nPower':nPower,\n",
    "    'Student_IDs':Student_IDs,'Student_names':Student_names,'List10':List10,'List12':List12}\n",
    "with open(fnDat, 'wb') as file:\n",
    "    pickle.dump(dataDict, file)\n",
    "\n",
    "def saveResults():\n",
    "    fn = 'Hwk1Answers.pkl'\n",
    "    answerDict = {'q1':q1,'q2':q2,'q3':q3,'q4':q4,'q5':q5,'q6':q6,'q7':q7,'q8':q8,\n",
    "                 'q9':q9,'q10':q10,'q11':q11,'q12':q12}\n",
    "    with open(fn, 'wb') as file:\n",
    "        pickle.dump(answerDict, file)\n",
    "\n",
    "    #Read and print \n",
    "    with open(fn, 'rb') as file:\n",
    "        loaded_dict = pickle.load(file)\n",
    "    \n",
    "    print(\"Your answers so far are:\")\n",
    "    print(loaded_dict)"
   ]
  },
  {
   "cell_type": "markdown",
   "id": "ed37dd2e-0076-4b05-b594-4e28cda958bc",
   "metadata": {},
   "source": [
    "## Problem Set 1 - Basic Arithmetic and String Manipulation"
   ]
  },
  {
   "cell_type": "code",
   "execution_count": 6,
   "id": "eb36cae3-6344-428b-9d97-ebe35b743109",
   "metadata": {
    "tags": []
   },
   "outputs": [
    {
     "name": "stdout",
     "output_type": "stream",
     "text": [
      "Hello my name is Name\n",
      "Your answers so far are:\n",
      "{'q1': 'Hello my name is Name', 'q2': 'XXX', 'q3': 'XXX', 'q4': 123, 'q5': 'XXX', 'q6': 123, 'q7': 'XXX', 'q8': 'xxx', 'q9': 'xxx', 'q10': ['apples', 'bananas', 'pears', 'pears', 'blueberries', 'apples', 'strawberries'], 'q11': 'xxx', 'q12': [1, 2, 3, 4, 5, 6, 7, 8]}\n"
     ]
    }
   ],
   "source": [
    "# Q1 - Concatenate the following strings with a space inbetween them (do not change the name).\n",
    "string_1 = 'Hello my name is'\n",
    "name = 'Name'\n",
    "q1 = string_1 + ' ' + name\n",
    "\n",
    "print(q1)\n",
    "saveResults()"
   ]
  },
  {
   "cell_type": "code",
   "execution_count": 11,
   "id": "8f5fa2d5-598a-4244-a9ef-b0444bc67dc8",
   "metadata": {},
   "outputs": [
    {
     "name": "stdout",
     "output_type": "stream",
     "text": [
      "I WOULD LIKE TO BE UPPERCASE\n",
      "Your answers so far are:\n",
      "{'q1': 'Hello my name is Name', 'q2': 'I WOULD LIKE TO BE UPPERCASE', 'q3': 'I bought 15 apples on Saturday.', 'q4': 123, 'q5': 'XXX', 'q6': 123, 'q7': 'XXX', 'q8': 'xxx', 'q9': 'xxx', 'q10': ['apples', 'bananas', 'pears', 'pears', 'blueberries', 'apples', 'strawberries'], 'q11': 'xxx', 'q12': [1, 2, 3, 4, 5, 6, 7, 8]}\n"
     ]
    }
   ],
   "source": [
    "# Q2 = Convert the following string to uppercase\n",
    "string_2 = 'i would like to be uppercase'\n",
    "q2 = string_2.upper()\n",
    "\n",
    "print(q2)\n",
    "saveResults()"
   ]
  },
  {
   "cell_type": "code",
   "execution_count": 12,
   "id": "d2f6938c-1036-4622-94c4-d03ed23ae5dd",
   "metadata": {
    "tags": []
   },
   "outputs": [
    {
     "name": "stdout",
     "output_type": "stream",
     "text": [
      "15\n",
      "apples\n",
      "Saturday\n",
      "Your answers so far are:\n",
      "{'q1': 'Hello my name is Name', 'q2': 'I WOULD LIKE TO BE UPPERCASE', 'q3': 'I bought 15 apples on Saturday.', 'q4': 123, 'q5': 'XXX', 'q6': 123, 'q7': 'XXX', 'q8': 'xxx', 'q9': 'xxx', 'q10': ['apples', 'bananas', 'pears', 'pears', 'blueberries', 'apples', 'strawberries'], 'q11': 'xxx', 'q12': [1, 2, 3, 4, 5, 6, 7, 8]}\n"
     ]
    }
   ],
   "source": [
    "# Q3 - use string formatting to construct the following string: \n",
    "#. \"I bought [number] [fruit] on [day].\" where:\n",
    "#     [number] is replaced with the number value of the variable \"number\",\n",
    "#     [fruit] is replaced with the string value of the variable \"fruit\",\n",
    "#     [day] is replaced with the string value of the variable \"day\",\n",
    "print(number)\n",
    "print(fruit)\n",
    "print(day)\n",
    "q3 = f\"I bought {number} {fruit} on {day}.\"\n",
    "\n",
    "saveResults()"
   ]
  },
  {
   "cell_type": "code",
   "execution_count": 16,
   "id": "adc7baac-3d62-400e-8e5b-a66eb12e117e",
   "metadata": {
    "tags": []
   },
   "outputs": [
    {
     "name": "stdout",
     "output_type": "stream",
     "text": [
      "An alacritous abalone accelerates along an alarming aquatic ascent.\n",
      "13\n",
      "Your answers so far are:\n",
      "{'q1': 'Hello my name is Name', 'q2': 'I WOULD LIKE TO BE UPPERCASE', 'q3': 'I bought 15 apples on Saturday.', 'q4': 13, 'q5': 'XXX', 'q6': 123, 'q7': 'XXX', 'q8': 'xxx', 'q9': 'xxx', 'q10': ['apples', 'bananas', 'pears', 'pears', 'blueberries', 'apples', 'strawberries'], 'q11': 'xxx', 'q12': [1, 2, 3, 4, 5, 6, 7, 8]}\n"
     ]
    }
   ],
   "source": [
    "# Q4 - count the number of a's in the string \"string_4\"\n",
    "print(string_4)\n",
    "# using count method\n",
    "q4 = string_4.count('a')\n",
    "\n",
    "# using for loop\n",
    "q4 = 0\n",
    "for i in range(len(string_4)):\n",
    "    if string_4[i] == 'a':\n",
    "        q4 += 1\n",
    "\n",
    "print(q4)\n",
    "saveResults()"
   ]
  },
  {
   "cell_type": "code",
   "execution_count": 19,
   "id": "87dfc22b-0d94-4cc6-ab7c-cd484c67c919",
   "metadata": {
    "tags": []
   },
   "outputs": [
    {
     "name": "stdout",
     "output_type": "stream",
     "text": [
      "A                       large space was here.\n",
      "Alargespacewashere.\n",
      "Your answers so far are:\n",
      "{'q1': 'Hello my name is Name', 'q2': 'I WOULD LIKE TO BE UPPERCASE', 'q3': 'I bought 15 apples on Saturday.', 'q4': 13, 'q5': 'Alargespacewashere.', 'q6': 123, 'q7': 'XXX', 'q8': 'xxx', 'q9': 'xxx', 'q10': ['apples', 'bananas', 'pears', 'pears', 'blueberries', 'apples', 'strawberries'], 'q11': 'xxx', 'q12': [1, 2, 3, 4, 5, 6, 7, 8]}\n"
     ]
    }
   ],
   "source": [
    "# Q5 - Strip \"string_5\" to remove all spaces and return the result as 'q5'\n",
    "print(string_5)\n",
    "q5 = string_5.replace(' ','')\n",
    "\n",
    "print(q5)\n",
    "saveResults()"
   ]
  },
  {
   "cell_type": "code",
   "execution_count": 20,
   "id": "57fe3ee3-f84f-4839-bed2-5ca82691a87c",
   "metadata": {
    "tags": []
   },
   "outputs": [
    {
     "name": "stdout",
     "output_type": "stream",
     "text": [
      "Your answers so far are:\n",
      "{'q1': 'Hello my name is Name', 'q2': 'I WOULD LIKE TO BE UPPERCASE', 'q3': 'I bought 15 apples on Saturday.', 'q4': 13, 'q5': 'Alargespacewashere.', 'q6': 216, 'q7': 'XXX', 'q8': 'xxx', 'q9': 'xxx', 'q10': ['apples', 'bananas', 'pears', 'pears', 'blueberries', 'apples', 'strawberries'], 'q11': 'xxx', 'q12': [1, 2, 3, 4, 5, 6, 7, 8]}\n"
     ]
    }
   ],
   "source": [
    "# Q6 - How long is the string \"string_6\"?\n",
    "q6 = len(string_6)\n",
    "\n",
    "saveResults()"
   ]
  },
  {
   "cell_type": "code",
   "execution_count": 32,
   "id": "5df84638-359e-4ce2-8e90-925c40614253",
   "metadata": {
    "tags": []
   },
   "outputs": [
    {
     "name": "stdout",
     "output_type": "stream",
     "text": [
      "3.141592653589793\n",
      "6\n",
      "3\n",
      "3.101e+01\n",
      "Your answers so far are:\n",
      "{'q1': 'Hello my name is Name', 'q2': 'I WOULD LIKE TO BE UPPERCASE', 'q3': 'I bought 15 apples on Saturday.', 'q4': 13, 'q5': 'Alargespacewashere.', 'q6': 216, 'q7': '3.101e+01', 'q8': 57.46268750396964, 'q9': 87.27124915114989, 'q10': ['apples', 'bananas', 'pears', 'blueberries', 'strawberries'], 'q11': {1: 'Jim', 2: 'John', 3: 'Jenna', 4: 'Jamal', 5: 'Jaden'}, 'q12': [1, 3, 5, 7]}\n"
     ]
    }
   ],
   "source": [
    "# Q7 - Write a STRING that contains the value of pi^[nPower]. \n",
    "# Use exponent form to the 3rd decimal point (e.g., 2.500e+00).\n",
    "pi = np.pi\n",
    "print(pi)\n",
    "print(nDigits)\n",
    "print(nPower)\n",
    "\n",
    "q7 = f\"{pi**nPower:.{3}e}\"\n",
    "print(q7)\n",
    "\n",
    "saveResults()"
   ]
  },
  {
   "cell_type": "markdown",
   "id": "d6565fd5-b535-4571-84e9-2ea7a0c0c6ed",
   "metadata": {
    "tags": []
   },
   "source": [
    "## Problem Set 2 - Iterables, Slicing, and Sets"
   ]
  },
  {
   "cell_type": "code",
   "execution_count": 25,
   "id": "478785c4-c27a-4e62-ab36-8695589b3291",
   "metadata": {
    "tags": []
   },
   "outputs": [
    {
     "name": "stdout",
     "output_type": "stream",
     "text": [
      "[79.35867807557156, 85.29279663565676, 85.65888208853568, 61.13590193726003, 4.520518538179907, 75.41040698871248, 49.06313117812351, 7.5896306930601565, 17.331448540775263, 38.35196967858021, 8.666300184140995, 81.81952001929224, 41.87848639321443, 59.18479037084582, 96.05685595436432, 83.04840430538343, 90.05283617905191, 46.47748964722357, 51.08445352027059, 87.27124915114989]\n",
      "Your answers so far are:\n",
      "{'q1': 'Hello my name is Name', 'q2': 'I WOULD LIKE TO BE UPPERCASE', 'q3': 'I bought 15 apples on Saturday.', 'q4': 13, 'q5': 'Alargespacewashere.', 'q6': 216, 'q7': '3.100628e+01', 'q8': 57.46268750396964, 'q9': 'xxx', 'q10': ['apples', 'bananas', 'pears', 'pears', 'blueberries', 'apples', 'strawberries'], 'q11': 'xxx', 'q12': [1, 2, 3, 4, 5, 6, 7, 8]}\n"
     ]
    }
   ],
   "source": [
    "# Q8 - Consider the numbers in the list \"xData\", and compute their average.\n",
    "print(xData)\n",
    "q8 = 1.23  # Change this to produce the average of the numbers in 'xData'\n",
    "q8 = sum(xData)/len(xData)\n",
    "\n",
    "saveResults()"
   ]
  },
  {
   "cell_type": "code",
   "execution_count": 26,
   "id": "52ccb85f-cbc6-46ab-ae0c-657d92d17cc1",
   "metadata": {
    "tags": []
   },
   "outputs": [
    {
     "name": "stdout",
     "output_type": "stream",
     "text": [
      "[79.35867807557156, 85.29279663565676, 85.65888208853568, 61.13590193726003, 4.520518538179907, 75.41040698871248, 49.06313117812351, 7.5896306930601565, 17.331448540775263, 38.35196967858021, 8.666300184140995, 81.81952001929224, 41.87848639321443, 59.18479037084582, 96.05685595436432, 83.04840430538343, 90.05283617905191, 46.47748964722357, 51.08445352027059, 87.27124915114989]\n",
      "Your answers so far are:\n",
      "{'q1': 'Hello my name is Name', 'q2': 'I WOULD LIKE TO BE UPPERCASE', 'q3': 'I bought 15 apples on Saturday.', 'q4': 13, 'q5': 'Alargespacewashere.', 'q6': 216, 'q7': '3.100628e+01', 'q8': 57.46268750396964, 'q9': 87.27124915114989, 'q10': ['apples', 'bananas', 'pears', 'pears', 'blueberries', 'apples', 'strawberries'], 'q11': 'xxx', 'q12': [1, 2, 3, 4, 5, 6, 7, 8]}\n"
     ]
    }
   ],
   "source": [
    "# Q9 - What's the last entry in the list \"xData\".  Get this by slicing the list.\n",
    "print(xData)\n",
    "q9 = xData[-1]\n",
    "\n",
    "saveResults()"
   ]
  },
  {
   "cell_type": "code",
   "execution_count": 28,
   "id": "1bac04df-6fb1-4ee9-ac15-9a21d5dbf087",
   "metadata": {},
   "outputs": [
    {
     "name": "stdout",
     "output_type": "stream",
     "text": [
      "['apples', 'bananas', 'pears', 'pears', 'blueberries', 'apples', 'strawberries']\n",
      "['apples', 'bananas', 'pears', 'blueberries', 'strawberries']\n",
      "Your answers so far are:\n",
      "{'q1': 'Hello my name is Name', 'q2': 'I WOULD LIKE TO BE UPPERCASE', 'q3': 'I bought 15 apples on Saturday.', 'q4': 13, 'q5': 'Alargespacewashere.', 'q6': 216, 'q7': '3.100628e+01', 'q8': 57.46268750396964, 'q9': 87.27124915114989, 'q10': ['apples', 'bananas', 'pears', 'blueberries', 'strawberries'], 'q11': 'xxx', 'q12': [1, 2, 3, 4, 5, 6, 7, 8]}\n"
     ]
    }
   ],
   "source": [
    "# Q10 - Convert between lists and sets to remove duplicate entries from the list \"List10\"\n",
    "print(List10)\n",
    "q10 = list(set(List10))\n",
    "q10 = list(dict.fromkeys(List10))\n",
    "print(q10)\n",
    "\n",
    "saveResults()"
   ]
  },
  {
   "cell_type": "code",
   "execution_count": 30,
   "id": "84efaca0-7f30-4a5f-b973-054970681a64",
   "metadata": {},
   "outputs": [
    {
     "name": "stdout",
     "output_type": "stream",
     "text": [
      "[1, 2, 3, 4, 5]\n",
      "['Jim', 'John', 'Jenna', 'Jamal', 'Jaden']\n",
      "{1: 'Jim', 2: 'John', 3: 'Jenna', 4: 'Jamal', 5: 'Jaden'}\n",
      "Your answers so far are:\n",
      "{'q1': 'Hello my name is Name', 'q2': 'I WOULD LIKE TO BE UPPERCASE', 'q3': 'I bought 15 apples on Saturday.', 'q4': 13, 'q5': 'Alargespacewashere.', 'q6': 216, 'q7': '3.100628e+01', 'q8': 57.46268750396964, 'q9': 87.27124915114989, 'q10': ['apples', 'bananas', 'pears', 'blueberries', 'strawberries'], 'q11': {1: 'Jim', 2: 'John', 3: 'Jenna', 4: 'Jamal', 5: 'Jaden'}, 'q12': [1, 2, 3, 4, 5, 6, 7, 8]}\n"
     ]
    }
   ],
   "source": [
    "# Q11 - Combine the lists 'Student_IDs' and 'Student_names' into a dictionary keyed by the IDs. \n",
    "# i.e. Create a dictionary with pairs of { ID : student name }\n",
    "print(Student_IDs)\n",
    "print(Student_names)\n",
    "q11 = dict(zip(Student_IDs, Student_names))\n",
    "print(q11)\n",
    "\n",
    "saveResults()"
   ]
  },
  {
   "cell_type": "code",
   "execution_count": 31,
   "id": "13f4c066-44df-4b82-a78d-4dd2ff590f03",
   "metadata": {
    "tags": []
   },
   "outputs": [
    {
     "name": "stdout",
     "output_type": "stream",
     "text": [
      "[1, 2, 3, 4, 5, 6, 7, 8]\n",
      "[1, 3, 5, 7]\n",
      "Your answers so far are:\n",
      "{'q1': 'Hello my name is Name', 'q2': 'I WOULD LIKE TO BE UPPERCASE', 'q3': 'I bought 15 apples on Saturday.', 'q4': 13, 'q5': 'Alargespacewashere.', 'q6': 216, 'q7': '3.100628e+01', 'q8': 57.46268750396964, 'q9': 87.27124915114989, 'q10': ['apples', 'bananas', 'pears', 'blueberries', 'strawberries'], 'q11': {1: 'Jim', 2: 'John', 3: 'Jenna', 4: 'Jamal', 5: 'Jaden'}, 'q12': [1, 3, 5, 7]}\n"
     ]
    }
   ],
   "source": [
    "# Q12 - Slice to get every other entry in the list 'List12'\n",
    "print(List12)\n",
    "q12 = List12[::2]\n",
    "print(q12)\n",
    "\n",
    "saveResults()"
   ]
  }
 ],
 "metadata": {
  "kernelspec": {
   "display_name": "Python 3",
   "language": "python",
   "name": "python3"
  },
  "language_info": {
   "codemirror_mode": {
    "name": "ipython",
    "version": 3
   },
   "file_extension": ".py",
   "mimetype": "text/x-python",
   "name": "python",
   "nbconvert_exporter": "python",
   "pygments_lexer": "ipython3",
   "version": "3.10.14"
  }
 },
 "nbformat": 4,
 "nbformat_minor": 5
}
